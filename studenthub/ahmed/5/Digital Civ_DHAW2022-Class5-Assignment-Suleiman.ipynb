{
  "metadata": {
    "kernelspec": {
      "name": "python",
      "display_name": "Python (Pyodide)",
      "language": "python"
    },
    "language_info": {
      "codemirror_mode": {
        "name": "python",
        "version": 3
      },
      "file_extension": ".py",
      "mimetype": "text/x-python",
      "name": "python",
      "nbconvert_exporter": "python",
      "pygments_lexer": "ipython3",
      "version": "3.8"
    }
  },
  "nbformat_minor": 5,
  "nbformat": 4,
  "cells": [
    {
      "cell_type": "markdown",
      "source": "# This notebook was taken from Chapter 1 from [Python Programming for the Humanities](http://www.karsdorp.io/python-course/).",
      "metadata": {},
      "id": "367bec83"
    },
    {
      "cell_type": "markdown",
      "source": "## String manipulation",
      "metadata": {},
      "id": "a1654309"
    },
    {
      "cell_type": "markdown",
      "source": "Many disciplines within the humanities work on texts. Quite naturally programming for the humanities will focus a lot on manipulating texts. In the last quiz you were asked to define a variable that points to a string that represents your name. We have already seen some basic arithmetic in our very first calculation. Not only numbers, but also strings can be added, or, more precisely, *concatenated*, together as well:",
      "metadata": {},
      "id": "8ec9a855"
    },
    {
      "cell_type": "code",
      "source": "name = \"Suleiman\" # insert your first name\nbook = \"The Lord of the Flies\"\nprint(name + \" likes \" + book + \"?\")",
      "metadata": {
        "trusted": true
      },
      "execution_count": 2,
      "outputs": [
        {
          "name": "stdout",
          "text": "Suleiman likes The Lord of the Flies?\n",
          "output_type": "stream"
        }
      ],
      "id": "3acaf407"
    },
    {
      "cell_type": "markdown",
      "source": "This string consists of a number of characters. We can access the individual characters with the help of `indexing`. For example, to find only the first letter of your name, you can type in:",
      "metadata": {},
      "id": "d6600b41"
    },
    {
      "cell_type": "code",
      "source": "first_letter = name[0]\nprint(first_letter)",
      "metadata": {
        "trusted": true
      },
      "execution_count": 3,
      "outputs": [
        {
          "name": "stdout",
          "text": "S\n",
          "output_type": "stream"
        }
      ],
      "id": "0fd52b2b"
    },
    {
      "cell_type": "markdown",
      "source": "Notice that to access the first letter, we use the index `0`. This might seem odd, but just remember that indexes in Python start at zero.",
      "metadata": {},
      "id": "549ebb18"
    },
    {
      "cell_type": "markdown",
      "source": "---",
      "metadata": {},
      "id": "d5a11595"
    },
    {
      "cell_type": "markdown",
      "source": "#### Quiz!",
      "metadata": {},
      "id": "3fcbf712"
    },
    {
      "cell_type": "markdown",
      "source": "Now, if you know the length of your name you can ask for the last letter of your name:",
      "metadata": {},
      "id": "17fb09a1"
    },
    {
      "cell_type": "code",
      "source": "last_letter = name[7]\nprint(last_letter)",
      "metadata": {
        "trusted": true
      },
      "execution_count": 4,
      "outputs": [
        {
          "name": "stdout",
          "text": "n\n",
          "output_type": "stream"
        }
      ],
      "id": "68fef2d4"
    },
    {
      "cell_type": "markdown",
      "source": "---",
      "metadata": {},
      "id": "4bf3b2e1"
    },
    {
      "cell_type": "markdown",
      "source": "It is rather inconvenient having to know how long our strings are if we want to find out what its last letter is. Python provides a simple way of accessing a string from the rear:",
      "metadata": {},
      "id": "024531ca"
    },
    {
      "cell_type": "code",
      "source": "last_letter = name[-1]\nprint(last_letter)",
      "metadata": {
        "trusted": true
      },
      "execution_count": 5,
      "outputs": [
        {
          "name": "stdout",
          "text": "n\n",
          "output_type": "stream"
        }
      ],
      "id": "41ce8158"
    },
    {
      "cell_type": "markdown",
      "source": "Alternatively, there is the function `len()` which returns the length of a string:",
      "metadata": {},
      "id": "4ad3651a"
    },
    {
      "cell_type": "code",
      "source": "print(len(name))",
      "metadata": {
        "trusted": true
      },
      "execution_count": 6,
      "outputs": [
        {
          "name": "stdout",
          "text": "8\n",
          "output_type": "stream"
        }
      ],
      "id": "08518c76"
    },
    {
      "cell_type": "markdown",
      "source": "Do you understand the following?",
      "metadata": {},
      "id": "a8568913"
    },
    {
      "cell_type": "code",
      "source": "print(name[len(name)-1])",
      "metadata": {
        "trusted": true
      },
      "execution_count": 7,
      "outputs": [
        {
          "name": "stdout",
          "text": "n\n",
          "output_type": "stream"
        }
      ],
      "id": "1cb94380"
    },
    {
      "cell_type": "markdown",
      "source": "---",
      "metadata": {},
      "id": "eebc4ac5"
    },
    {
      "cell_type": "markdown",
      "source": "#### Quiz!",
      "metadata": {},
      "id": "9e5296d4"
    },
    {
      "cell_type": "markdown",
      "source": "Now can you write some code that defines a variable `but_last_letter` and assign to it the second-to-last letter of your name?",
      "metadata": {},
      "id": "910d5eec"
    },
    {
      "cell_type": "code",
      "source": "but_last_letter = name[-2]\nprint(but_last_letter)",
      "metadata": {
        "trusted": true
      },
      "execution_count": 8,
      "outputs": [
        {
          "name": "stdout",
          "text": "a\n",
          "output_type": "stream"
        }
      ],
      "id": "51d33cad"
    },
    {
      "cell_type": "markdown",
      "source": "---",
      "metadata": {},
      "id": "3fa19a95"
    },
    {
      "cell_type": "markdown",
      "source": "You're starting to become a real expert in indexing strings. Now what if we would like to find out what the last two or three letters of our name are? In Python we can use so-called slice-indexes or slices for short. To find the first two letters of our name we type in:",
      "metadata": {},
      "id": "da7584ed"
    },
    {
      "cell_type": "code",
      "source": "first_two_letters = name[0:2]\nprint(first_two_letters)",
      "metadata": {
        "trusted": true
      },
      "execution_count": 9,
      "outputs": [
        {
          "name": "stdout",
          "text": "Su\n",
          "output_type": "stream"
        }
      ],
      "id": "a4ede268"
    },
    {
      "cell_type": "markdown",
      "source": "The `0` index is optional, so we could just as well type in `name[:2]`. This says take all characters of name until you reach index 2. We can also start at index 2 and leave the end index unspecified:",
      "metadata": {},
      "id": "d7332f9d"
    },
    {
      "cell_type": "code",
      "source": "without_first_two_letters = name[2:]\nwithout_first_two_letters",
      "metadata": {
        "trusted": true
      },
      "execution_count": 12,
      "outputs": [
        {
          "execution_count": 12,
          "output_type": "execute_result",
          "data": {
            "text/plain": "'leiman'"
          },
          "metadata": {}
        }
      ],
      "id": "0d0a3fab"
    },
    {
      "cell_type": "markdown",
      "source": "Because we did not specify the end index, Python continues until it reaches the end of our string. If we would like to find out what the last two letters of our name are, we can type in:",
      "metadata": {},
      "id": "9e73f77a"
    },
    {
      "cell_type": "code",
      "source": "last_two_letters = name[-2:]\nprint(last_two_letters)",
      "metadata": {
        "trusted": true
      },
      "execution_count": 13,
      "outputs": [
        {
          "name": "stdout",
          "text": "an\n",
          "output_type": "stream"
        }
      ],
      "id": "06a153c3"
    },
    {
      "cell_type": "markdown",
      "source": "Take a look at the following picture. Do you fully understand it? \n<div style=\"float: center;\"><img style=\"float: center;\" src=\"http://www.nltk.org/images/string-slicing.png\" align=center /></div>",
      "metadata": {},
      "id": "4678fe16"
    },
    {
      "cell_type": "markdown",
      "source": "---",
      "metadata": {},
      "id": "1e22881a"
    },
    {
      "cell_type": "markdown",
      "source": "#### Quiz!",
      "metadata": {},
      "id": "d5902b8c"
    },
    {
      "cell_type": "markdown",
      "source": "Can you define a variable `middle_letters` and assign to it all letters of your name except for the first two and the last two?",
      "metadata": {},
      "id": "29bbde1b"
    },
    {
      "cell_type": "code",
      "source": "middle_letters = name[1:7]\nprint(middle_letters)",
      "metadata": {
        "trusted": true
      },
      "execution_count": 14,
      "outputs": [
        {
          "name": "stdout",
          "text": "uleima\n",
          "output_type": "stream"
        }
      ],
      "id": "36f06c6f"
    },
    {
      "cell_type": "markdown",
      "source": "Given the following two words, can you write code that prints out the word *humanities* using only slicing and concatenation? (So, no quotes are allowed in your code.)",
      "metadata": {},
      "id": "ccc55082"
    },
    {
      "cell_type": "code",
      "source": "word1 = \"human\"\nword2 = \"opportunities\"\nword1[0:]+word2[-5:]",
      "metadata": {
        "trusted": true
      },
      "execution_count": 16,
      "outputs": [
        {
          "execution_count": 16,
          "output_type": "execute_result",
          "data": {
            "text/plain": "'humanities'"
          },
          "metadata": {}
        }
      ],
      "id": "0cd82c71"
    },
    {
      "cell_type": "markdown",
      "source": "---",
      "metadata": {},
      "id": "6cff7f4f"
    },
    {
      "cell_type": "markdown",
      "source": "##### What we have learnt",
      "metadata": {},
      "id": "110fe90e"
    },
    {
      "cell_type": "markdown",
      "source": "To finish this section, here is an overview of what we have learnt. Go through the list and make sure you understand all the concepts.\n\n-  concatenation (e.g. addition of strings)\n-  indexing\n-  slicing\n-  `len()`",
      "metadata": {},
      "id": "873cf41a"
    },
    {
      "cell_type": "markdown",
      "source": "---",
      "metadata": {},
      "id": "49dc07fe"
    },
    {
      "cell_type": "markdown",
      "source": "## Lists",
      "metadata": {},
      "id": "12ce32dd"
    },
    {
      "cell_type": "markdown",
      "source": "Consider the sentence below:",
      "metadata": {},
      "id": "15ea617e"
    },
    {
      "cell_type": "code",
      "source": "sentence = \"Python's name is derived from the television series Monty Python's Flying Circus.\"",
      "metadata": {
        "trusted": true
      },
      "execution_count": 17,
      "outputs": [],
      "id": "f6e6fd94"
    },
    {
      "cell_type": "markdown",
      "source": "Words are made up of characters, and so are string objects in Python. As we will see, it is always to be prefered to represent our data as naturally as possible. Now for the sentence above, it seems more natural to describe it in terms of words than in terms of characters. Say we want to access the first word in our sentence. If we type in:",
      "metadata": {},
      "id": "8825430e"
    },
    {
      "cell_type": "code",
      "source": "first_word = sentence[0]\nprint(first_word)",
      "metadata": {
        "trusted": true
      },
      "execution_count": 18,
      "outputs": [
        {
          "name": "stdout",
          "text": "P\n",
          "output_type": "stream"
        }
      ],
      "id": "9ec3240c"
    },
    {
      "cell_type": "markdown",
      "source": "Python only prints the first letter of our sentence. (Think about this if you do not understand why.) We can transform our sentence into a `list` of words (represented by strings) using the `split()` function as follows: ",
      "metadata": {},
      "id": "6cb0fcb0"
    },
    {
      "cell_type": "code",
      "source": "words = sentence.split()\nprint(words)",
      "metadata": {
        "trusted": true
      },
      "execution_count": 19,
      "outputs": [
        {
          "name": "stdout",
          "text": "[\"Python's\", 'name', 'is', 'derived', 'from', 'the', 'television', 'series', 'Monty', \"Python's\", 'Flying', 'Circus.']\n",
          "output_type": "stream"
        }
      ],
      "id": "c0401cc5"
    },
    {
      "cell_type": "markdown",
      "source": "By issuing the function split on our sentence, Python splits the sentence on spaces and returns a list of words. In many ways a list functions like a string. We can access all of its components using indexes and we can use slice indexes to access parts of the list. Let's try it!",
      "metadata": {},
      "id": "477db0c7"
    },
    {
      "cell_type": "markdown",
      "source": "---",
      "metadata": {},
      "id": "c75b74e9"
    },
    {
      "cell_type": "markdown",
      "source": "#### Quiz!",
      "metadata": {},
      "id": "85f8ecd8"
    },
    {
      "cell_type": "markdown",
      "source": "Write a small program that defines a variable `first_word` and assign to it the first word of our word list. Play around a little with the indexes to see if you really understand how it works.",
      "metadata": {},
      "id": "2d4cfd59"
    },
    {
      "cell_type": "code",
      "source": "first_word = sentence.split()\nprint(first_word[0])",
      "metadata": {
        "trusted": true
      },
      "execution_count": 20,
      "outputs": [
        {
          "name": "stdout",
          "text": "Python's\n",
          "output_type": "stream"
        }
      ],
      "id": "6ed519bb"
    },
    {
      "cell_type": "markdown",
      "source": "---",
      "metadata": {},
      "id": "440f4696"
    },
    {
      "cell_type": "markdown",
      "source": "A `list` acts like a container where we can store all kinds of information. We can access a list using indexes and slices. We can also add new items to a list. For that you use the method `append`. Let's see how it works. Say we want to keep a list of all our good reads. We start with an empty list and we will add some good books to it:",
      "metadata": {},
      "id": "e501eca1"
    },
    {
      "cell_type": "code",
      "source": "#start with an empty list\ngood_reads = []\ngood_reads.append(\"The Hunger games\")\ngood_reads.append(\"A Clockwork Orange\")\nprint(good_reads)",
      "metadata": {
        "trusted": true
      },
      "execution_count": 21,
      "outputs": [
        {
          "name": "stdout",
          "text": "['The Hunger games', 'A Clockwork Orange']\n",
          "output_type": "stream"
        }
      ],
      "id": "3d43ad37"
    },
    {
      "cell_type": "markdown",
      "source": "Now, if for some reason we don't like a particular book anymore, we can change it as follows:",
      "metadata": {},
      "id": "2da71b7c"
    },
    {
      "cell_type": "code",
      "source": "good_reads[0] = \"Pride and Prejudice\"\nprint(good_reads)",
      "metadata": {
        "trusted": true
      },
      "execution_count": 22,
      "outputs": [
        {
          "name": "stdout",
          "text": "['Pride and Prejudice', 'A Clockwork Orange']\n",
          "output_type": "stream"
        }
      ],
      "id": "c79ad784"
    },
    {
      "cell_type": "markdown",
      "source": "---",
      "metadata": {},
      "id": "badab185"
    },
    {
      "cell_type": "markdown",
      "source": "#### Quiz!",
      "metadata": {},
      "id": "33545ad9"
    },
    {
      "cell_type": "markdown",
      "source": "Here's another small Quiz! Try to change the title of the second book in our good reads collection.",
      "metadata": {},
      "id": "9e7c5f6a"
    },
    {
      "cell_type": "code",
      "source": "good_reads[1] = \"Notes of a Native Son\"\nprint(good_reads)",
      "metadata": {
        "trusted": true
      },
      "execution_count": 23,
      "outputs": [
        {
          "name": "stdout",
          "text": "['Pride and Prejudice', 'Notes of a Native Son']\n",
          "output_type": "stream"
        }
      ],
      "id": "2afe72d1"
    },
    {
      "cell_type": "markdown",
      "source": "---",
      "metadata": {},
      "id": "6f91f157"
    },
    {
      "cell_type": "markdown",
      "source": "We just changed one element in a list. Note that if you do the same thing for a string, you will get an error:",
      "metadata": {},
      "id": "61323585"
    },
    {
      "cell_type": "code",
      "source": "name = \"Pythen\"\nname[4] = \"o\"",
      "metadata": {
        "trusted": true
      },
      "execution_count": 24,
      "outputs": [
        {
          "ename": "<class 'TypeError'>",
          "evalue": "'str' object does not support item assignment",
          "traceback": [
            "\u001b[0;31m---------------------------------------------------------------------------\u001b[0m",
            "\u001b[0;31mTypeError\u001b[0m                                 Traceback (most recent call last)",
            "Cell \u001b[0;32mIn [24], line 2\u001b[0m\n\u001b[1;32m      1\u001b[0m name \u001b[38;5;241m=\u001b[39m \u001b[38;5;124m\"\u001b[39m\u001b[38;5;124mPythen\u001b[39m\u001b[38;5;124m\"\u001b[39m\n\u001b[0;32m----> 2\u001b[0m name[\u001b[38;5;241m4\u001b[39m] \u001b[38;5;241m=\u001b[39m \u001b[38;5;124m\"\u001b[39m\u001b[38;5;124mo\u001b[39m\u001b[38;5;124m\"\u001b[39m\n",
            "\u001b[0;31mTypeError\u001b[0m: 'str' object does not support item assignment"
          ],
          "output_type": "error"
        }
      ],
      "id": "eac7369e"
    },
    {
      "cell_type": "markdown",
      "source": "This is because `strings` (and some other types) are *immutable*. That is, they cannot be changed, as opposed to `lists` which *are* mutable. Let's explore some other ways in which we can manipulate lists.",
      "metadata": {},
      "id": "6d8a62d0"
    },
    {
      "cell_type": "markdown",
      "source": "#### remove()",
      "metadata": {},
      "id": "d37981ec"
    },
    {
      "cell_type": "markdown",
      "source": "Let's assume our good read collection has grown a lot and we would like to remove some of the books from the list. Python provides the method `remove` that acts upon a list and takes as its argument the items we would like to remove. ",
      "metadata": {},
      "id": "4d89c30d"
    },
    {
      "cell_type": "code",
      "source": "good_reads = [\"The Hunger games\", \"A Clockwork Orange\", \n              \"Pride and Prejudice\", \"Water for Elephants\",\n              \"The Shadow of the Wind\", \"Bel Canto\"]\n\ngood_reads.remove(\"Water for Elephants\")\n\nprint(good_reads)",
      "metadata": {
        "trusted": true
      },
      "execution_count": 25,
      "outputs": [
        {
          "name": "stdout",
          "text": "['The Hunger games', 'A Clockwork Orange', 'Pride and Prejudice', 'The Shadow of the Wind', 'Bel Canto']\n",
          "output_type": "stream"
        }
      ],
      "id": "ecafc63d"
    },
    {
      "cell_type": "markdown",
      "source": "If we try to remove a book that is not in our collection, Python raises an error (don't be afraid, your computer won't break ;-))",
      "metadata": {},
      "id": "f2fa1c74"
    },
    {
      "cell_type": "code",
      "source": "good_reads.remove(\"White Oleander\")",
      "metadata": {
        "trusted": true
      },
      "execution_count": 26,
      "outputs": [
        {
          "ename": "<class 'ValueError'>",
          "evalue": "list.remove(x): x not in list",
          "traceback": [
            "\u001b[0;31m---------------------------------------------------------------------------\u001b[0m",
            "\u001b[0;31mValueError\u001b[0m                                Traceback (most recent call last)",
            "Cell \u001b[0;32mIn [26], line 1\u001b[0m\n\u001b[0;32m----> 1\u001b[0m good_reads\u001b[38;5;241m.\u001b[39mremove(\u001b[38;5;124m\"\u001b[39m\u001b[38;5;124mWhite Oleander\u001b[39m\u001b[38;5;124m\"\u001b[39m)\n",
            "\u001b[0;31mValueError\u001b[0m: list.remove(x): x not in list"
          ],
          "output_type": "error"
        }
      ],
      "id": "b23204ff"
    },
    {
      "cell_type": "markdown",
      "source": "---",
      "metadata": {},
      "id": "b25c0428"
    },
    {
      "cell_type": "markdown",
      "source": "#### Quiz!",
      "metadata": {},
      "id": "7357dd3f"
    },
    {
      "cell_type": "markdown",
      "source": "Define a variable `good_reads` as an empty list. Now add some of your favorite books to it (at least three) and print the last two books you added. ",
      "metadata": {},
      "id": "fa83099e"
    },
    {
      "cell_type": "code",
      "source": "good_reads=[]\ngood_reads.append(\"Notes of a Native Son\")\ngood_reads.append(\"The Wind-Up Bird Chronicle\")\ngood_reads.append(\"The Prince\")\nprint(good_reads[1:])",
      "metadata": {
        "trusted": true
      },
      "execution_count": 28,
      "outputs": [
        {
          "name": "stdout",
          "text": "['The Wind-Up Bird Chronicle', 'The Prince']\n",
          "output_type": "stream"
        }
      ],
      "id": "dc1762b0"
    },
    {
      "cell_type": "markdown",
      "source": "---",
      "metadata": {},
      "id": "f7a2b4a8"
    },
    {
      "cell_type": "markdown",
      "source": "Just as with strings, we can concatenate two lists. Here is an example:",
      "metadata": {},
      "id": "f60afedc"
    },
    {
      "cell_type": "code",
      "source": "#first we specify two lists of strings:\ngood_reads = [\"The Hunger games\", \"A Clockwork Orange\", \n              \"Pride and Prejudice\", \"Water for Elephants\",\n              \"The Shadow of the Wind\", \"Bel Canto\"]\n\nbad_reads = [\"Fifty Shades of Grey\", \"Twilight\"]\n\nall_reads = good_reads + bad_reads\nprint(all_reads)",
      "metadata": {
        "trusted": true
      },
      "execution_count": 29,
      "outputs": [
        {
          "name": "stdout",
          "text": "['The Hunger games', 'A Clockwork Orange', 'Pride and Prejudice', 'Water for Elephants', 'The Shadow of the Wind', 'Bel Canto', 'Fifty Shades of Grey', 'Twilight']\n",
          "output_type": "stream"
        }
      ],
      "id": "97d6ad6e"
    },
    {
      "cell_type": "markdown",
      "source": "#### sort()",
      "metadata": {},
      "id": "a4c4ad38"
    },
    {
      "cell_type": "markdown",
      "source": "It is always nice to organise your bookshelf. We can sort our collection with the following expression:",
      "metadata": {},
      "id": "1a6ba38d"
    },
    {
      "cell_type": "code",
      "source": "good_reads.sort()\nprint(good_reads)",
      "metadata": {
        "trusted": true
      },
      "execution_count": 30,
      "outputs": [
        {
          "name": "stdout",
          "text": "['A Clockwork Orange', 'Bel Canto', 'Pride and Prejudice', 'The Hunger games', 'The Shadow of the Wind', 'Water for Elephants']\n",
          "output_type": "stream"
        }
      ],
      "id": "207e8e56"
    },
    {
      "cell_type": "markdown",
      "source": "#### nested lists",
      "metadata": {},
      "id": "22fd098c"
    },
    {
      "cell_type": "markdown",
      "source": "Up to this point, our lists only have consisted of strings. However, a list can contain all kinds of data types, such as integers and even lists! Do you understand what is happening in the following example?",
      "metadata": {},
      "id": "7b1ab4fb"
    },
    {
      "cell_type": "code",
      "source": "nested_list = [[1, 2, 3, 4], [5, 6, 7, 8]]\nprint(nested_list[0])\nprint(nested_list[0][0])",
      "metadata": {
        "trusted": true
      },
      "execution_count": 31,
      "outputs": [
        {
          "name": "stdout",
          "text": "[1, 2, 3, 4]\n1\n",
          "output_type": "stream"
        }
      ],
      "id": "de3a3f1c"
    },
    {
      "cell_type": "markdown",
      "source": "We can put this to use to enhance our good read collection with a score for every book we have. An entry in our collection will consist of a score within the range of 1 and 10 and the title of our book. The first element is the title; the second the score: `[title, score]`. We initialize an empty list:",
      "metadata": {},
      "id": "1a731147"
    },
    {
      "cell_type": "code",
      "source": "good_reads = []",
      "metadata": {
        "trusted": true
      },
      "execution_count": 32,
      "outputs": [],
      "id": "90b923e0"
    },
    {
      "cell_type": "markdown",
      "source": "And add two books to it:",
      "metadata": {},
      "id": "d90e6ce3"
    },
    {
      "cell_type": "code",
      "source": "good_reads.append([\"Pride and Prejudice\", 8])\ngood_reads.append([\"A Clockwork Orange\", 9])\ngood_reads.append([\"Notes of a Native Son\", 10])\ngood_reads.append([\"The Wind-Up Bird Chronicle\", 8])\ngood_reads.append([\"The Prince\", 9])\nprint(good_reads[0][1])",
      "metadata": {
        "trusted": true
      },
      "execution_count": 35,
      "outputs": [
        {
          "name": "stdout",
          "text": "8\n",
          "output_type": "stream"
        }
      ],
      "id": "6279bd19"
    },
    {
      "cell_type": "markdown",
      "source": "---",
      "metadata": {},
      "id": "047c3002"
    },
    {
      "cell_type": "markdown",
      "source": "#### Quiz!",
      "metadata": {},
      "id": "915b5968"
    },
    {
      "cell_type": "markdown",
      "source": "Update the `good_reads` collection with some of your own books and give them all a score. Can you print out the score you gave to the first book in the list? (Tip: you can pile up indexes)",
      "metadata": {},
      "id": "55d3e69f"
    },
    {
      "cell_type": "markdown",
      "source": "---",
      "metadata": {},
      "id": "c6755df7"
    },
    {
      "cell_type": "markdown",
      "source": "##### What we have learnt",
      "metadata": {},
      "id": "488d5dbf"
    },
    {
      "cell_type": "markdown",
      "source": "To finish this section, here is an overview of the new concepts and functions you have learnt. Go through them and make sure you understand them all.\n\n-  list\n-  *mutable* versus *immutable*\n-  `.split()`\n-  `.append()`\n-  nested lists\n-  `.remove()`\n-  `.sort()`",
      "metadata": {},
      "id": "183f0a70"
    },
    {
      "cell_type": "markdown",
      "source": "---",
      "metadata": {},
      "id": "00c512c2"
    }
  ]
}